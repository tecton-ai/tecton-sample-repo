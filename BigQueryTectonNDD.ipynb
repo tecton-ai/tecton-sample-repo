{
 "cells": [
  {
   "cell_type": "markdown",
   "id": "4196474e-e89e-4392-8b82-8f571cb75511",
   "metadata": {
    "tags": []
   },
   "source": [
    "### Install the tecton SDK and setup access\n",
    "\n",
    "Credentials configured using `tecton.set_credentials()` are scoped to the notebook session. They will need to be reconfigured whenever a notebook is restarted or state is cleared. To read SDK credentials from the environment, it is recommended to store the API key in a Secrets Manager.\n",
    "\n",
    "Set `_TOKEN_` and  `_DEPLOYMENT_NAME_` with your Tecton token and deployment name.\n",
    "\n",
    "PySpark kernel is required for retrieving features.\n",
    "\n",
    "_NOTE: You may need to restart the kernel after installing `tecton`, or the import will fail._"
   ]
  },
  {
   "cell_type": "code",
   "execution_count": null,
   "id": "77baa54d-4e2f-40ab-9257-56ce7793aa4f",
   "metadata": {},
   "outputs": [],
   "source": [
    "%pip install tecton~=0.8.0"
   ]
  },
  {
   "cell_type": "code",
   "execution_count": null,
   "id": "e60c93e7-4598-435b-bdca-0b0b4eae800d",
   "metadata": {
    "id": "e60c93e7-4598-435b-bdca-0b0b4eae800d",
    "tags": []
   },
   "outputs": [],
   "source": [
    "import tecton\n",
    "\n",
    "_TOKEN_ = \"\"\n",
    "_DEPLOYMENT_NAME_ = \"\"\n",
    "\n",
    "tecton.set_credentials(\n",
    "    tecton_api_key=_TOKEN_,\n",
    "    tecton_url=f\"https://{_DEPLOYMENT_NAME_}.tecton.ai/api\",\n",
    ")\n"
   ]
  },
  {
   "cell_type": "markdown",
   "id": "fb19c865-5fcb-41fb-b460-c4bdfa0bb47f",
   "metadata": {},
   "source": [
    "## Notebook Driven Development\n",
    "Any Tecton object can be defined and validated in a notebook. \n",
    "\n",
    "https://docs.tecton.ai/docs/the-feature-development-workflow\n",
    "\n",
    "\n",
    "### Define and validate a Big Query data source\n",
    "Define a data source for retrieving top terms by international regions.\n",
    "\n",
    "https://docs.tecton.ai/tecton-on-gcp-datasources#connecting-to-bigquery"
   ]
  },
  {
   "cell_type": "code",
   "execution_count": null,
   "id": "47d9f74f-e4a3-48ab-85ba-9e15103c12e2",
   "metadata": {
    "id": "47d9f74f-e4a3-48ab-85ba-9e15103c12e2",
    "tags": []
   },
   "outputs": [],
   "source": [
    "from tecton import *\n",
    "\n",
    "INTERNATIONAL_TOP_TERMS_TABLE = \"bigquery-public-data.google_trends.international_top_terms\"\n",
    "\n",
    "@spark_batch_config()\n",
    "def data_source_function(spark):\n",
    "    df = (\n",
    "        spark.read.format(\"com.google.cloud.spark.bigquery\")\n",
    "        .option(\"table\", INTERNATIONAL_TOP_TERMS_TABLE)\n",
    "        .load()\n",
    "    )\n",
    "    return df\n",
    "\n",
    "top_terms = BatchSource(name='top_terms', batch_config=data_source_function)\n",
    "top_terms.validate()"
   ]
  },
  {
   "cell_type": "code",
   "execution_count": null,
   "id": "2227b9a9-a34f-4fa5-a154-37cf30ee5068",
   "metadata": {
    "id": "2227b9a9-a34f-4fa5-a154-37cf30ee5068",
    "tags": []
   },
   "outputs": [],
   "source": [
    "top_terms.get_dataframe().to_spark().limit(10).show()"
   ]
  },
  {
   "cell_type": "markdown",
   "id": "0e1fd89d-45eb-411a-b709-68e234e993b0",
   "metadata": {},
   "source": [
    "### Define an Entity and an Aggregate Feature View\n",
    "\n",
    "A Tecton Entity is used to organize and join features.\n",
    "\n",
    "Feature Views take in data sources as inputs and define a transformation to compute one or more features.\n",
    "\n",
    "https://docs.tecton.ai/docs/defining-features\n",
    "\n",
    "In this example, we are defining an aggregate feature to compute a sum of term scores over a 30 day period by region."
   ]
  },
  {
   "cell_type": "code",
   "execution_count": null,
   "id": "05a2b78c-d661-4314-a598-0943092c3367",
   "metadata": {
    "id": "05a2b78c-d661-4314-a598-0943092c3367",
    "tags": []
   },
   "outputs": [],
   "source": [
    "from datetime import timedelta\n",
    "\n",
    "entity = Entity(name='region_name')\n",
    "\n",
    "@batch_feature_view(\n",
    "    mode='spark_sql',\n",
    "    entities=[entity],\n",
    "    sources=[top_terms],\n",
    "    aggregations=[\n",
    "        Aggregation(\n",
    "            column='score',\n",
    "            function='sum',\n",
    "            time_window=timedelta(days=30)\n",
    "        )\n",
    "    ],\n",
    "    aggregation_interval=timedelta(days=1),\n",
    ")\n",
    "def scores_by_region(t):\n",
    "    return f\"\"\"\n",
    "        SELECT \n",
    "            region_name,\n",
    "            score,\n",
    "            to_timestamp(refresh_date) AS timestamp \n",
    "        FROM {t}\n",
    "    \"\"\"\n",
    "\n",
    "scores_by_region.validate()"
   ]
  },
  {
   "cell_type": "markdown",
   "id": "c91bbe93-c665-42ce-aea9-379a16e9ab69",
   "metadata": {
    "tags": []
   },
   "source": [
    "#### Retrieve historical features.\n",
    "\n",
    "https://docs.tecton.ai/docs/0.7/reading-feature-data/reading-feature-data-for-training/constructing-training-data"
   ]
  },
  {
   "cell_type": "code",
   "execution_count": null,
   "id": "5a7daf01-b8a1-4fa7-b770-58ff37d33781",
   "metadata": {
    "id": "5a7daf01-b8a1-4fa7-b770-58ff37d33781",
    "tags": []
   },
   "outputs": [],
   "source": [
    "import pandas\n",
    "\n",
    "# Retrieve historical features by entities.\n",
    "entities = pandas.DataFrame({\"region_name\": [\"Hanoi\", \"Manitoba\"]})\n",
    "historical_features = scores_by_region.get_historical_features(entities=entities)\n",
    "# Display the query plan.\n",
    "historical_features.explain()"
   ]
  },
  {
   "cell_type": "code",
   "execution_count": null,
   "id": "02edddc1-9286-4440-9714-c9ab9a01dd8c",
   "metadata": {
    "id": "02edddc1-9286-4440-9714-c9ab9a01dd8c",
    "tags": []
   },
   "outputs": [],
   "source": [
    "# show features\n",
    "historical_features.to_spark().orderBy(\"timestamp\").limit(10).show()"
   ]
  },
  {
   "cell_type": "code",
   "execution_count": null,
   "id": "3a869792-1290-4726-9292-f5a934d6149d",
   "metadata": {
    "tags": []
   },
   "outputs": [],
   "source": [
    "# Point-in-time spine for feature retrieval\n",
    "spine_df = spark.sql('SELECT TIMESTAMP(\"2022-12-31T00:00:01Z\") AS timestamp, \"Hanoi\" AS region_name')\n",
    "spine_df.show()"
   ]
  },
  {
   "cell_type": "code",
   "execution_count": null,
   "id": "0d1ec0c5-0fa6-4116-8c10-3927177d9a89",
   "metadata": {
    "id": "0d1ec0c5-0fa6-4116-8c10-3927177d9a89"
   },
   "outputs": [],
   "source": [
    "# Retrieve point-in-time features per entity.\n",
    "spine_historical_features = scores_by_region.get_historical_features(spine=spine_df)\n",
    "spine_historical_features.explain()"
   ]
  },
  {
   "cell_type": "code",
   "execution_count": null,
   "id": "13dd2dc9-770b-4162-9103-b1f57893284c",
   "metadata": {
    "id": "13dd2dc9-770b-4162-9103-b1f57893284c"
   },
   "outputs": [],
   "source": [
    "spine_historical_features.to_spark().show()"
   ]
  }
 ],
 "metadata": {
  "colab": {
   "provenance": []
  },
  "environment": {
   "kernel": "fc5c5180015e82c24efcf81c-pyspark",
   "name": "workbench-notebooks.m113",
   "type": "gcloud",
   "uri": "gcr.io/deeplearning-platform-release/workbench-notebooks:m113"
  },
  "kernelspec": {
   "display_name": "PySpark on vitly-notebook-bq-sample (Remote)",
   "language": "python",
   "name": "fc5c5180015e82c24efcf81c-pyspark"
  },
  "language_info": {
   "codemirror_mode": {
    "name": "ipython",
    "version": 3
   },
   "file_extension": ".py",
   "mimetype": "text/x-python",
   "name": "python",
   "nbconvert_exporter": "python",
   "pygments_lexer": "ipython3",
   "version": "3.10.8"
  }
 },
 "nbformat": 4,
 "nbformat_minor": 5
}
